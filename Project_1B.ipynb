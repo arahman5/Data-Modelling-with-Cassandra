{
 "cells": [
  {
   "cell_type": "markdown",
   "metadata": {
    "editable": true
   },
   "source": [
    "# Data Modelling and ETL Pipeline for Apache Cassandra"
   ]
  },
  {
   "cell_type": "code",
   "execution_count": 44,
   "metadata": {
    "editable": true
   },
   "outputs": [],
   "source": [
    "# Import Python packages \n",
    "import pandas as pd\n",
    "import cassandra\n",
    "import re\n",
    "import os\n",
    "import glob\n",
    "import numpy as np\n",
    "import json\n",
    "import csv"
   ]
  },
  {
   "cell_type": "code",
   "execution_count": 45,
   "metadata": {
    "editable": true
   },
   "outputs": [
    {
     "name": "stdout",
     "output_type": "stream",
     "text": [
      "/home/workspace\n"
     ]
    }
   ],
   "source": [
    "# checking current working directory\n",
    "print(os.getcwd())\n",
    "\n",
    "# Get current folder and subfolder event data\n",
    "filepath = os.getcwd() + '/event_data'\n",
    "\n",
    "# Create a for loop to create a list of files and collect each filepath\n",
    "for root, dirs, files in os.walk(filepath):\n",
    "    \n",
    "# join the file path and roots with the subdirectories using glob\n",
    "    file_path_list = glob.glob(os.path.join(root,'*'))\n",
    "    "
   ]
  },
  {
   "cell_type": "code",
   "execution_count": 46,
   "metadata": {
    "editable": true
   },
   "outputs": [],
   "source": [
    "# initiating an empty list of rows that will be generated from each file\n",
    "full_data_rows_list = [] \n",
    "    \n",
    "# for every filepath in the file path list \n",
    "for f in file_path_list:\n",
    "\n",
    "# reading csv file \n",
    "    with open(f, 'r', encoding = 'utf8', newline='') as csvfile: \n",
    "        # creating a csv reader object \n",
    "        csvreader = csv.reader(csvfile) \n",
    "        next(csvreader)\n",
    "        \n",
    " # extracting each data row one by one and append it        \n",
    "        for line in csvreader:\n",
    "            #print(line)\n",
    "            full_data_rows_list.append(line) \n",
    "            \n",
    "# creating a smaller event data csv file called event_datafile_full csv that will be used to insert data into the \\\n",
    "# Apache Cassandra tables\n",
    "csv.register_dialect('myDialect', quoting=csv.QUOTE_ALL, skipinitialspace=True)\n",
    "\n",
    "with open('event_datafile_new.csv', 'w', encoding = 'utf8', newline='') as f:\n",
    "    writer = csv.writer(f, dialect='myDialect')\n",
    "    writer.writerow(['artist','firstName','gender','itemInSession','lastName','length',\\\n",
    "                'level','location','sessionId','song','userId'])\n",
    "    for row in full_data_rows_list:\n",
    "        if (row[0] == ''):\n",
    "            continue\n",
    "        writer.writerow((row[0], row[2], row[3], row[4], row[5], row[6], row[7], row[8], row[12], row[13], row[16]))\n"
   ]
  },
  {
   "cell_type": "code",
   "execution_count": 47,
   "metadata": {
    "editable": true
   },
   "outputs": [
    {
     "name": "stdout",
     "output_type": "stream",
     "text": [
      "6821\n"
     ]
    }
   ],
   "source": [
    "# check the number of rows in csv file\n",
    "with open('event_datafile_new.csv', 'r', encoding = 'utf8') as f:\n",
    "    print(sum(1 for line in f))"
   ]
  },
  {
   "cell_type": "code",
   "execution_count": 48,
   "metadata": {
    "editable": true
   },
   "outputs": [],
   "source": [
    "# This should make a connection to a Cassandra instance your local machine \n",
    "# (127.0.0.1)\n",
    "\n",
    "from cassandra.cluster import Cluster\n",
    "cluster = Cluster(['127.0.0.1'])\n",
    "\n",
    "# To establish connection and begin executing queries, need a session\n",
    "session = cluster.connect()"
   ]
  },
  {
   "cell_type": "code",
   "execution_count": 49,
   "metadata": {
    "editable": true
   },
   "outputs": [],
   "source": [
    "# Create a Keyspace\n",
    "try:\n",
    "    session.execute(\"\"\"\n",
    "    CREATE KEYSPACE IF NOT EXISTS sparkifydb\n",
    "    WITH REPLICATION =\n",
    "    {'class': 'SimpleStrategy', 'replication_factor': 1}\"\"\" # Replication factor of 1 as Cassandra instance running only on one local machine\n",
    "                   )\n",
    "except Exception as e:\n",
    "    print(e)"
   ]
  },
  {
   "cell_type": "code",
   "execution_count": 50,
   "metadata": {
    "editable": true
   },
   "outputs": [],
   "source": [
    "# Set KEYSPACE to the keyspace specified above\n",
    "try:\n",
    "    session.set_keyspace('sparkifydb')\n",
    "except Exception as e:\n",
    "    print(e)"
   ]
  },
  {
   "cell_type": "code",
   "execution_count": 51,
   "metadata": {
    "editable": true
   },
   "outputs": [],
   "source": [
    "## Query 1:  Give me the artist, song title and song's length in the music app history that was heard during \\\n",
    "## sessionId = 338, and itemInSession = 4\n",
    "\n",
    "# In order to model this query we will need to have a table with 5 columns containing information about artist name, title of song, duration of song, \n",
    "# the session in the app during which this song was heard and which item of the session it was\n",
    "\n",
    "query = \"CREATE TABLE IF NOT EXISTS song_info\"\n",
    "# Use a composition of Partition key sessionId and Clustering column itemInsession as the Primary key in order to obtain a unique combination\n",
    "# for each row. It makes sense to include sessionId and itemInSession into the primary key as through this query \n",
    "# we are looking for information about a song being played at a specific sessionId and for a specific itemInSession\n",
    "query = query + \"(sessionId int, itemInSession int, artist text, song_title text, song_length float, PRIMARY KEY(sessionId,itemInSession))\"\n",
    "try:\n",
    "    session.execute(query)\n",
    "except Exception as e:\n",
    "    print(e)\n",
    "\n",
    "                    "
   ]
  },
  {
   "cell_type": "code",
   "execution_count": 52,
   "metadata": {
    "editable": true
   },
   "outputs": [],
   "source": [
    "# Set up the CSV file\n",
    "file = 'event_datafile_new.csv'\n",
    "\n",
    "with open(file, encoding = 'utf8') as f:\n",
    "    csvreader = csv.reader(f)\n",
    "    next(csvreader) # skip header\n",
    "    for line in csvreader:\n",
    "# INSERT data from the csv file into the table song_info\n",
    "        query = \"INSERT INTO song_info (sessionId, itemInSession, artist, song_title, song_length)\"\n",
    "        query = query + \"VALUES (%s, %s, %s, %s, %s)\"\n",
    "        ## Assign the appropriate column from the csv file to the corressponding column in the table\n",
    "        session.execute(query, (int(line[8]), int(line[3]), line[0], line[9], float(line[5])))"
   ]
  },
  {
   "cell_type": "code",
   "execution_count": 53,
   "metadata": {
    "editable": true,
    "scrolled": true
   },
   "outputs": [
    {
     "name": "stdout",
     "output_type": "stream",
     "text": [
      "Artist name: Faithless \n",
      "Title of Song: Music Matters (Mark Knight Dub) \n",
      "Duration of Song: 495.30731201171875\n"
     ]
    }
   ],
   "source": [
    "# In order to verify that the correct data was entered in the table, a SELECT statement can be executed to return the artist name, title of song\n",
    "# and duration of song that was heard during a specific sessionId and a itemInSession.\n",
    "\n",
    "query = \"\"\"SELECT * FROM song_info \n",
    "        WHERE sessionId = %s\n",
    "        AND itemInSession = %s\n",
    "\"\"\"\n",
    "try:\n",
    "    rows = session.execute(query, (338, 4)) # In this case, we will use sessionId of 338 and itemInSession of 4 but it can be applied for \n",
    "                                            # any combination of sessionId and itemInSession in their respective order\n",
    "except Exception as e:\n",
    "    print(e)\n",
    "\n",
    "for row in rows:\n",
    "    print(\"Artist name: \" + row.artist, \"\\nTitle of Song: \" + row.song_title, \"\\nDuration of Song: \" + str(row.song_length))\n",
    "    \n"
   ]
  },
  {
   "cell_type": "code",
   "execution_count": 54,
   "metadata": {
    "editable": true
   },
   "outputs": [],
   "source": [
    "## Query 2: Give me only the following: name of artist, song (sorted by itemInSession) and user (first and last name)\\\n",
    "## for userid = 10, sessionid = 182\n",
    "\n",
    "# In order to model this query we will need to have a table with 7 columns containing information about artist name, title of song,\n",
    "# first name of the user, last name of the user, the Id of the user, the session in the app during which this song was heard and which item of the session it was\n",
    "\n",
    "query = \"CREATE TABLE IF NOT EXISTS user_details\"\n",
    "# Use a composition of Partition key userId, Clustering column 1 sessionid and Clustering column 2 itemInsession as the Primary key in order to \n",
    "# obtain a unique combination for each row. It makes sense to include userId and sessionId into the primary key as through this query \n",
    "# we are looking for information about the song being played and the details about the person playing that song for a specific userId \n",
    "# at a specific sessionId. itemInSession was also included in the composition in order to use it to sort the data\n",
    "query = query + \"(userId int, sessionId int, itemInSession int, artist text, song_title text, first_name text, last_name text, PRIMARY KEY(userId,sessionId,itemInSession))\"\n",
    "try:\n",
    "    session.execute(query)\n",
    "except Exception as e:\n",
    "    print(e)\n",
    "\n",
    "\n",
    "                    "
   ]
  },
  {
   "cell_type": "code",
   "execution_count": 55,
   "metadata": {
    "editable": true
   },
   "outputs": [],
   "source": [
    "# Set up the CSV file\n",
    "file = 'event_datafile_new.csv'\n",
    "\n",
    "with open(file, encoding = 'utf8') as f:\n",
    "    csvreader = csv.reader(f)\n",
    "    next(csvreader) # skip header\n",
    "    for line in csvreader:\n",
    "# INSERT data from the csv file into the table user_details\n",
    "        query = \"INSERT INTO user_details (userId, sessionId, itemInSession, artist, song_title, first_name, last_name)\"\n",
    "        query = query + \"VALUES (%s, %s, %s, %s, %s, %s, %s)\"\n",
    "        ## Assign the appropriate column from the csv file to the corressponding column in the table\n",
    "        session.execute(query, (int(line[10]), int(line[8]), int(line[3]), line[0], line[9], line[1], line[4]))"
   ]
  },
  {
   "cell_type": "code",
   "execution_count": 56,
   "metadata": {
    "editable": true
   },
   "outputs": [
    {
     "name": "stdout",
     "output_type": "stream",
     "text": [
      "Artist name: Down To The Bone \n",
      "Title of Song: Keep On Keepin' On \n",
      "User Name: Sylvie Cruz\n",
      "Artist name: Three Drives \n",
      "Title of Song: Greece 2000 \n",
      "User Name: Sylvie Cruz\n",
      "Artist name: Sebastien Tellier \n",
      "Title of Song: Kilometer \n",
      "User Name: Sylvie Cruz\n",
      "Artist name: Lonnie Gordon \n",
      "Title of Song: Catch You Baby (Steve Pitron & Max Sanna Radio Edit) \n",
      "User Name: Sylvie Cruz\n"
     ]
    }
   ],
   "source": [
    "# In order to verify that the correct data was entered in the table, a SELECT statement can be executed to return the artist name, title of song\n",
    "# user first name and last name for a specific userId during a specific sessionId \n",
    "\n",
    "query = \"\"\"SELECT * FROM user_details\n",
    "        WHERE userId = %s\n",
    "        AND sessionId = %s\n",
    "\"\"\"\n",
    "try:\n",
    "    rows = session.execute(query, (10, 182)) # In this case, we will use userId of 10 and sessionId of 182 but it can be applied for \n",
    "                                            # any combination of userId and sessionId in their respective order\n",
    "except Exception as e:\n",
    "    print(e)\n",
    "\n",
    "for row in rows:\n",
    "    print(\"Artist name: \" + row.artist, \"\\nTitle of Song: \" + row.song_title, \"\\nUser Name: \" + row.first_name + \" \" + row.last_name)"
   ]
  },
  {
   "cell_type": "code",
   "execution_count": 57,
   "metadata": {
    "editable": true
   },
   "outputs": [],
   "source": [
    "## Query 3: Give me every user name (first and last) in my music app history who listened to the song 'All Hands Against His Own'\n",
    "\n",
    "# In order to model this query we will need to have a table with 4 columns containing information about user first name, user last name, userId\n",
    "# and title of song\n",
    "\n",
    "query = \"CREATE TABLE IF NOT EXISTS user_details_for_specific_song\"\n",
    "# Use a composition of title of song as Partition key and clustering column userId as Primary key in order to \n",
    "# obtain a unique combination for each row. It makes sense to include title of song and userId into the primary key as through this query \n",
    "# we are looking for information about all the users who played a specific song \n",
    "query = query + \"(song_title text, userId int, first_name text, last_name text, PRIMARY KEY(song_title,userId))\"\n",
    "try:\n",
    "    session.execute(query)\n",
    "except Exception as e:\n",
    "    print(e)\n",
    "                    "
   ]
  },
  {
   "cell_type": "code",
   "execution_count": 58,
   "metadata": {
    "editable": true
   },
   "outputs": [],
   "source": [
    "# Set up the CSV file\n",
    "file = 'event_datafile_new.csv'\n",
    "\n",
    "with open(file, encoding = 'utf8') as f:\n",
    "    csvreader = csv.reader(f)\n",
    "    next(csvreader) # skip header\n",
    "    for line in csvreader:\n",
    "# INSERT data from the csv file into the table user_details_for_specific_song\n",
    "        query = \"INSERT INTO user_details_for_specific_song (song_title, userId, first_name, last_name)\"\n",
    "        query = query + \"VALUES (%s, %s, %s, %s)\"\n",
    "        ## Assign the appropriate column from the csv file to the corressponding column in the table\n",
    "        session.execute(query, (line[9], int(line[10]), line[1], line[4]))"
   ]
  },
  {
   "cell_type": "code",
   "execution_count": 59,
   "metadata": {
    "editable": true
   },
   "outputs": [
    {
     "name": "stdout",
     "output_type": "stream",
     "text": [
      "Title of Song: All Hands Against His Own \n",
      "User Name: Jacqueline Lynch\n",
      "Title of Song: All Hands Against His Own \n",
      "User Name: Tegan Levine\n",
      "Title of Song: All Hands Against His Own \n",
      "User Name: Sara Johnson\n"
     ]
    }
   ],
   "source": [
    "# In order to verify that the correct data was entered in the table, a SELECT statement can be executed to return the user name and title of song\n",
    "\n",
    "query = \"\"\"SELECT * FROM user_details_for_specific_song\n",
    "        WHERE song_title = %s\n",
    "\"\"\"\n",
    "try:\n",
    "    rows = session.execute(query, ('All Hands Against His Own',)) # In this case, we will use the song with title \"All Hands Against His Own\" \n",
    "                                            # but it can be applied for any song title\n",
    "except Exception as e:\n",
    "    print(e)\n",
    "\n",
    "for row in rows:\n",
    "    print(\"Title of Song: \" + row.song_title, \"\\nUser Name: \" + row.first_name + \" \" + row.last_name)"
   ]
  },
  {
   "cell_type": "code",
   "execution_count": 60,
   "metadata": {
    "editable": true
   },
   "outputs": [
    {
     "data": {
      "text/plain": [
       "<cassandra.cluster.ResultSet at 0x7f03407ce940>"
      ]
     },
     "execution_count": 60,
     "metadata": {},
     "output_type": "execute_result"
    }
   ],
   "source": [
    "##Drop the table before closing out the sessions\n",
    "session.execute(\"DROP TABLE IF EXISTS song_info\")\n",
    "session.execute(\"DROP TABLE IF EXISTS user_details\")\n",
    "session.execute(\"DROP TABLE IF EXISTS user_details_for_specific_song\")"
   ]
  },
  {
   "cell_type": "code",
   "execution_count": 61,
   "metadata": {
    "editable": true
   },
   "outputs": [],
   "source": [
    "# Close the session and cluster connection\n",
    "session.shutdown()\n",
    "cluster.shutdown()"
   ]
  },
  {
   "cell_type": "code",
   "execution_count": null,
   "metadata": {
    "editable": true
   },
   "outputs": [],
   "source": []
  },
  {
   "cell_type": "code",
   "execution_count": null,
   "metadata": {
    "editable": true
   },
   "outputs": [],
   "source": []
  }
 ],
 "metadata": {
  "kernelspec": {
   "display_name": "Python 3",
   "language": "python",
   "name": "python3"
  },
  "language_info": {
   "codemirror_mode": {
    "name": "ipython",
    "version": 3
   },
   "file_extension": ".py",
   "mimetype": "text/x-python",
   "name": "python",
   "nbconvert_exporter": "python",
   "pygments_lexer": "ipython3",
   "version": "3.6.3"
  }
 },
 "nbformat": 4,
 "nbformat_minor": 4
}
